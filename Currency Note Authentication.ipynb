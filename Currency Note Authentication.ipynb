{
 "cells": [
  {
   "cell_type": "code",
   "execution_count": 2,
   "id": "e280b4f8-eacb-42d5-976d-fdc3502bed25",
   "metadata": {},
   "outputs": [],
   "source": [
    "import cv2\n",
    "import numpy as np\n",
    "\n",
    "# Load the reference image (genuine note) and the test image (note to verify)\n",
    "ref_img = cv2.imread('genuine.jpg', cv2.IMREAD_GRAYSCALE)\n",
    "test_img = cv2.imread('test_note_2.jpg', cv2.IMREAD_GRAYSCALE)\n",
    "\n",
    "# Check if images loaded correctly\n",
    "if ref_img is None or test_img is None:\n",
    "    print(\"Error: Image not found. Check the file paths.\")\n",
    "    exit()\n",
    "\n",
    "# Resize the input image to match the size of the reference image\n",
    "test_img_resized = cv2.resize(test_img, (ref_img.shape[1], ref_img.shape[0]))\n",
    "\n",
    "# Perform template matching\n",
    "result = cv2.matchTemplate(test_img_resized, ref_img, cv2.TM_CCOEFF_NORMED)\n",
    "\n",
    "# Get the minimum and maximum values, and their locations\n",
    "min_val, max_val, min_loc, max_loc = cv2.minMaxLoc(result)\n",
    "\n",
    "# Threshold for good match\n",
    "threshold = 0.8  # Adjust this as needed\n",
    "\n",
    "# If max_val (match confidence) is greater than threshold, it's a genuine note\n",
    "if max_val > threshold:\n",
    "    status = \"Genuine\"\n",
    "    color = (0, 255, 0)  # Green for genuine\n",
    "else:\n",
    "    status = \"Fake\"\n",
    "    color = (0, 0, 255)  # Red for fake\n",
    "\n",
    "# Draw a rectangle around the matched area in the test image\n",
    "top_left = max_loc\n",
    "bottom_right = (top_left[0] + ref_img.shape[1], top_left[1] + ref_img.shape[0])\n",
    "cv2.rectangle(test_img_resized, top_left, bottom_right, color, 2)\n",
    "\n",
    "# Add the status text\n",
    "cv2.putText(test_img_resized, f'Status: {status}', (10, 50), cv2.FONT_HERSHEY_SIMPLEX, 1.5, color, 3)\n",
    "\n",
    "# Resize the final image for larger display\n",
    "cv2.imshow(\"Currency Authentication\", cv2.resize(test_img_resized, (1200, 600)))\n",
    "cv2.waitKey(0)\n",
    "cv2.destroyAllWindows()\n"
   ]
  },
  {
   "cell_type": "code",
   "execution_count": null,
   "id": "40cc4430-e97d-43ca-8420-87694da3bf6d",
   "metadata": {},
   "outputs": [],
   "source": []
  }
 ],
 "metadata": {
  "kernelspec": {
   "display_name": "Python 3 (ipykernel)",
   "language": "python",
   "name": "python3"
  },
  "language_info": {
   "codemirror_mode": {
    "name": "ipython",
    "version": 3
   },
   "file_extension": ".py",
   "mimetype": "text/x-python",
   "name": "python",
   "nbconvert_exporter": "python",
   "pygments_lexer": "ipython3",
   "version": "3.12.7"
  }
 },
 "nbformat": 4,
 "nbformat_minor": 5
}
